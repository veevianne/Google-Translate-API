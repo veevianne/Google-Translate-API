{
 "cells": [
  {
   "cell_type": "markdown",
   "metadata": {},
   "source": [
    "## Week 3 Assessment"
   ]
  },
  {
   "cell_type": "markdown",
   "metadata": {},
   "source": [
    "### User Requirement (Manager)\n",
    "As a Data Scientist, you have been asked by your manager to build a system that helps the team to\n",
    "detect and translate complains made by the company’s French customers to English. And the system \n",
    "should also be able to translate to any language the team specifies.\n",
    "### User Case Story (Customer)\n",
    "1. The system should welcome me as a user\n",
    "2. The system should ask me to submit complain\n",
    "3. The system should tell me when my when my complain is submitted\n",
    "\n",
    "### User Case Story (Team)\n",
    "1. The system should list all the complain\n",
    "2. The system should ask me to pick a complain\n",
    "4. The system should be able to detect the language used in a complain text\n",
    "5. The system should be able to translate from one language to the other base on specification \n",
    "\n",
    "### TIPS:\n",
    "+ Variables\n",
    "+ Functions\n",
    "+ Loops\n",
    "+ Conditionals\n",
    "+ Import JSON to load your response to a dictionary\n",
    "+ API: On the Google translate Rapidapi platform, leverage on the following:\n",
    "\n",
    "*POST translate\n",
    "\n",
    "*POST detect"
   ]
  },
  {
   "cell_type": "markdown",
   "metadata": {},
   "source": [
    "### Customers Registration"
   ]
  },
  {
   "cell_type": "code",
   "execution_count": 1,
   "metadata": {},
   "outputs": [],
   "source": [
    "import json\n",
    "\n",
    "users = {}\n",
    "def customer_complaints():\n",
    "    if users:\n",
    "        name = input(\"Enter name: \")\n",
    "        complaints = input(\"Enter complaints: \")\n",
    "        date = str(input(\"Enter date in YYYY-MM-DD: \"))\n",
    "        user_id = input(\"Enter unique product ID: \")\n",
    "        print(\"Complaints successfully submitted. An email would be sent to you once your complaint is treated. Thank you\")\n",
    "     \n",
    "        if name == '' or complaints == '' or user_id == '' or date == '':\n",
    "            print (\"Please enter values into the provided options \") \n",
    "        \n",
    "        elif user_id in users.keys() or name in users.values():\n",
    "            print(\"You have already laid a complaint, please hold a little, our agent would get back to you\")\n",
    "            print(\"Would you like to enter another complaints? Y or N\")\n",
    "            response = input()\n",
    "            if response == 'Y' or 'y':\n",
    "                name = input(\"Enter name: \")\n",
    "                complaints = input(\"Enter complaints: \")\n",
    "                date = str(input(\"Enter date in YYYY-MM-DD: \"))\n",
    "                user_id = input(\"Enter unique product ID: \")\n",
    "                users[user_id] = {\"Name\":name, \"Date\":date, \"Complaints\":complaints}\n",
    "                print(\"Complaints successfully submitted. An email would be sent to you once your complaint is treated. Thank you\")\n",
    "            elif response == 'No' or 'no':\n",
    "                print(\"Thanks for your time, complaints received\")  \n",
    "        \n",
    "        else:\n",
    "            for values in users.values():\n",
    "                if user_id in values.values() or complaints in values.values():\n",
    "                    print(\"You have entered this complaints \")\n",
    "                else:\n",
    "                    users[user_id] = {\"Name\":name, \"Date\":date, \"Complaints\":complaints}\n",
    "                    print(\"Complaints successfully submitted. An email would be sent to you once your complaint is treated. Thank you\")\n",
    "    else:\n",
    "        name = input(\"Enter name: \")\n",
    "        complaints = input(\"Enter complaints: \")\n",
    "        date = str(input(\"Enter date in YYYY-MM-DD: \"))\n",
    "        user_id = input(\"Enter unique product ID: \")\n",
    "        users[user_id] = {\"Name\":name, \"Date\":date, \"Complaints\":complaints}\n",
    "        #print(users)\n",
    "        return(users)\n",
    "        print(\"Complaints successfully submitted. An email would be sent to you once your complaint is treated. Thank you\")\n",
    "        \n",
    "        \n"
   ]
  },
  {
   "cell_type": "markdown",
   "metadata": {},
   "source": [
    "### Update JSON file name: user.json"
   ]
  },
  {
   "cell_type": "code",
   "execution_count": 2,
   "metadata": {},
   "outputs": [],
   "source": [
    "# Update json entry of complaints   \n",
    "def write_json(new_complaint, filename='users.json'):\n",
    "    with open(filename, 'r+') as file:\n",
    "        #load data into dictionary\n",
    "        file_data = json.load(file)\n",
    "        #add new data into file_data\n",
    "        file_data.update(new_complaint)\n",
    "        file.seek(0)\n",
    "        #convert back to json\n",
    "        json.dump(file_data, file, indent=2)"
   ]
  },
  {
   "cell_type": "markdown",
   "metadata": {},
   "source": [
    "### User Case Story (Customer)"
   ]
  },
  {
   "cell_type": "code",
   "execution_count": 3,
   "metadata": {},
   "outputs": [],
   "source": [
    "def main():\n",
    "    runtime = 1\n",
    "    print('Welcome to Veevianne Consulting')\n",
    "    print('\\n')\n",
    "    while runtime:\n",
    "        checker = int(input('Would you like to submit a complaint? Press 1 to submit complaint and 2 to quit'))\n",
    "        if checker == 1:\n",
    "            customer_complaints()\n",
    "            write_json(users)\n",
    "        elif checker == 2:\n",
    "            break\n",
    "        else:\n",
    "            print('Invalid entry, try again')\n"
   ]
  },
  {
   "cell_type": "code",
   "execution_count": 4,
   "metadata": {},
   "outputs": [
    {
     "name": "stdout",
     "output_type": "stream",
     "text": [
      "Welcome to Veevianne Consulting\n",
      "\n",
      "\n",
      "Would you like to submit a complaint? Press 1 to submit complaint and 2 to quit2\n"
     ]
    }
   ],
   "source": [
    "main()"
   ]
  },
  {
   "cell_type": "code",
   "execution_count": 5,
   "metadata": {},
   "outputs": [
    {
     "name": "stdout",
     "output_type": "stream",
     "text": [
      "{}\n"
     ]
    }
   ],
   "source": [
    "print(users)"
   ]
  },
  {
   "cell_type": "markdown",
   "metadata": {},
   "source": [
    "### User Case Story (Team)"
   ]
  },
  {
   "cell_type": "code",
   "execution_count": 6,
   "metadata": {},
   "outputs": [
    {
     "name": "stdout",
     "output_type": "stream",
     "text": [
      "                            1234           8909        7657  \\\n",
      "Name                    Chinenye        Samiat      Barakat   \n",
      "Date                  2021-05-29     2021-08-29  2021-05-28   \n",
      "Complaints  Batterie défectueuse  Broken Screen  Faulty Sim   \n",
      "\n",
      "                            909          6578         8356             9922  \\\n",
      "Name                      Vivian     Chinenye      Olabisi        Babatunde   \n",
      "Date                  2021-05-10   2021-12-19   2020-11-23       2020-11-08   \n",
      "Complaints  Batterie défectueuse  Réseau lent  Réseau lent  Mauvais produit   \n",
      "\n",
      "                       2233             8484            7811  \\\n",
      "Name                  Alimi           Korede          Winner   \n",
      "Date             2021-08-11       2020-11-09      2021-06-01   \n",
      "Complaints  Mauvais produit  Mauvais produit  Téléphone gâté   \n",
      "\n",
      "                                         3091            5609  \n",
      "Name                                 Chiamaka        Somtochi  \n",
      "Date                               2020-07-01      2020-10-01  \n",
      "Complaints  Ich habe ein Problem mit der Ware  Телефон плохой  \n"
     ]
    }
   ],
   "source": [
    "#with open('users.json','w') as f:\n",
    "    #json.dump(users, f, indent=2)\n",
    "\n",
    "\n",
    "import pandas as pd\n",
    "\n",
    "print(pd.read_json('users.json'))"
   ]
  },
  {
   "cell_type": "markdown",
   "metadata": {},
   "source": [
    "### Google Translate API"
   ]
  },
  {
   "cell_type": "code",
   "execution_count": 7,
   "metadata": {},
   "outputs": [],
   "source": [
    "#from flask import Flask, request\n",
    "import requests\n",
    "import pandas as pd\n",
    " \n",
    "#app = Flask(__name__)\n",
    "\n",
    "import requests\n"
   ]
  },
  {
   "cell_type": "markdown",
   "metadata": {},
   "source": [
    "### Detect and Translate Function"
   ]
  },
  {
   "cell_type": "code",
   "execution_count": 17,
   "metadata": {},
   "outputs": [],
   "source": [
    "def detect():\n",
    "    detect_url = \"https://google-translate1.p.rapidapi.com/language/translate/v2/detect\"\n",
    "\n",
    "    headers = {\n",
    "    'content-type': \"application/x-www-form-urlencoded\",\n",
    "    'accept-encoding': \"application/gzip\",\n",
    "    'x-rapidapi-key': \"5eb60ad4d6msh3ea13865e668fa5p13e08djsn3bed215c1f3c\",\n",
    "    'x-rapidapi-host': \"google-translate1.p.rapidapi.com\"\n",
    "    }\n",
    " \n",
    "    print(pd.read_json('users.json'))\n",
    "   # parse args\n",
    "    check = input(\"Enter text you want to detect: \")\n",
    "    payload = \"q=check\"\n",
    " \n",
    "   # make the request\n",
    "    r = requests.request(\"POST\", detect_url, data=payload, headers=headers)\n",
    "    print(check)\n",
    "    return(r.text)\n",
    "\n",
    "\n",
    "def translate(tl,cl):\n",
    "    translate_url = \"https://google-translate1.p.rapidapi.com/language/translate/v2\"\n",
    "\n",
    "    headers = {\n",
    "    'content-type': \"application/x-www-form-urlencoded\",\n",
    "    'accept-encoding': \"application/gzip\",\n",
    "    'x-rapidapi-key': \"5eb60ad4d6msh3ea13865e668fa5p13e08djsn3bed215c1f3c\",\n",
    "    'x-rapidapi-host': \"google-translate1.p.rapidapi.com\"\n",
    "    }\n",
    " \n",
    "    print(pd.read_json('users.json'))\n",
    "    #parse args\n",
    "    check = input(\"Enter text you want to detect: \")\n",
    "    payload = \"q=check&target=tl&source=cl\"\n",
    "    \n",
    "    r = requests.request(\"POST\", translate_url, data=payload, headers=headers)\n",
    "    \n",
    "    print(check)\n",
    "    print(r.text)\n",
    "        \n",
    "    "
   ]
  },
  {
   "cell_type": "code",
   "execution_count": 18,
   "metadata": {},
   "outputs": [
    {
     "name": "stdout",
     "output_type": "stream",
     "text": [
      "                            1234           8909        7657  \\\n",
      "Name                    Chinenye        Samiat      Barakat   \n",
      "Date                  2021-05-29     2021-08-29  2021-05-28   \n",
      "Complaints  Batterie défectueuse  Broken Screen  Faulty Sim   \n",
      "\n",
      "                            909          6578         8356             9922  \\\n",
      "Name                      Vivian     Chinenye      Olabisi        Babatunde   \n",
      "Date                  2021-05-10   2021-12-19   2020-11-23       2020-11-08   \n",
      "Complaints  Batterie défectueuse  Réseau lent  Réseau lent  Mauvais produit   \n",
      "\n",
      "                       2233             8484            7811  \\\n",
      "Name                  Alimi           Korede          Winner   \n",
      "Date             2021-08-11       2020-11-09      2021-06-01   \n",
      "Complaints  Mauvais produit  Mauvais produit  Téléphone gâté   \n",
      "\n",
      "                                         3091            5609  \n",
      "Name                                 Chiamaka        Somtochi  \n",
      "Date                               2020-07-01      2020-10-01  \n",
      "Complaints  Ich habe ein Problem mit der Ware  Телефон плохой  \n",
      "Enter text you want to detect: Ich habe ein Problem mit der Ware\n",
      "Ich habe ein Problem mit der Ware\n"
     ]
    },
    {
     "data": {
      "text/plain": [
       "'{\"message\":\"You have exceeded the MONTHLY quota for Characters on your current plan, BASIC. Upgrade your plan at https:\\\\/\\\\/rapidapi.com\\\\/googlecloud\\\\/api\\\\/google-translate1\"}'"
      ]
     },
     "execution_count": 18,
     "metadata": {},
     "output_type": "execute_result"
    }
   ],
   "source": [
    "detect()"
   ]
  },
  {
   "cell_type": "code",
   "execution_count": 19,
   "metadata": {
    "scrolled": true
   },
   "outputs": [
    {
     "name": "stdout",
     "output_type": "stream",
     "text": [
      "                            1234           8909        7657  \\\n",
      "Name                    Chinenye        Samiat      Barakat   \n",
      "Date                  2021-05-29     2021-08-29  2021-05-28   \n",
      "Complaints  Batterie défectueuse  Broken Screen  Faulty Sim   \n",
      "\n",
      "                            909          6578         8356             9922  \\\n",
      "Name                      Vivian     Chinenye      Olabisi        Babatunde   \n",
      "Date                  2021-05-10   2021-12-19   2020-11-23       2020-11-08   \n",
      "Complaints  Batterie défectueuse  Réseau lent  Réseau lent  Mauvais produit   \n",
      "\n",
      "                       2233             8484            7811  \\\n",
      "Name                  Alimi           Korede          Winner   \n",
      "Date             2021-08-11       2020-11-09      2021-06-01   \n",
      "Complaints  Mauvais produit  Mauvais produit  Téléphone gâté   \n",
      "\n",
      "                                         3091            5609  \n",
      "Name                                 Chiamaka        Somtochi  \n",
      "Date                               2020-07-01      2020-10-01  \n",
      "Complaints  Ich habe ein Problem mit der Ware  Телефон плохой  \n",
      "Enter text you want to detect: Mauvais produit\n",
      "Mauvais produit\n",
      "{\"message\":\"You have exceeded the MONTHLY quota for Characters on your current plan, BASIC. Upgrade your plan at https:\\/\\/rapidapi.com\\/googlecloud\\/api\\/google-translate1\"}\n"
     ]
    }
   ],
   "source": [
    "translate('en', 'fr')"
   ]
  },
  {
   "cell_type": "code",
   "execution_count": null,
   "metadata": {},
   "outputs": [],
   "source": []
  }
 ],
 "metadata": {
  "kernelspec": {
   "display_name": "Python 3",
   "language": "python",
   "name": "python3"
  },
  "language_info": {
   "codemirror_mode": {
    "name": "ipython",
    "version": 3
   },
   "file_extension": ".py",
   "mimetype": "text/x-python",
   "name": "python",
   "nbconvert_exporter": "python",
   "pygments_lexer": "ipython3",
   "version": "3.7.4"
  }
 },
 "nbformat": 4,
 "nbformat_minor": 2
}
